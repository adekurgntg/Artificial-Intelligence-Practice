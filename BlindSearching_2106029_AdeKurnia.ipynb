{
  "nbformat": 4,
  "nbformat_minor": 0,
  "metadata": {
    "colab": {
      "provenance": [],
      "toc_visible": true
    },
    "kernelspec": {
      "name": "python3",
      "display_name": "Python 3"
    },
    "language_info": {
      "name": "python"
    }
  },
  "cells": [
    {
      "cell_type": "markdown",
      "source": [
        "Nama : Ade Kurnia"
      ],
      "metadata": {
        "id": "nT87oYsNw2j3"
      }
    },
    {
      "cell_type": "markdown",
      "source": [
        "NIM : 2106029"
      ],
      "metadata": {
        "id": "-0uxkGMyxAJL"
      }
    },
    {
      "cell_type": "markdown",
      "source": [
        "Breadth First Search (BFS)"
      ],
      "metadata": {
        "id": "3Li5y0fnmI-d"
      }
    },
    {
      "cell_type": "code",
      "execution_count": 1,
      "metadata": {
        "id": "JNlPL-hOg7YS"
      },
      "outputs": [],
      "source": [
        "def bfs(graph, source):\n",
        "  visited = set()\n",
        "  bfs_traversal = list()\n",
        "  queue = list()\n",
        "  queue.append(source)\n",
        "  visited.add(source)\n",
        "  while queue:\n",
        "    current_node = queue.pop(0)\n",
        "    bfs_traversal.append(current_node)\n",
        "    for neighbour_node in graph[current_node]:\n",
        "      if neighbour_node not in visited:\n",
        "        visited.add(neighbour_node)\n",
        "        queue.append(neighbour_node)\n",
        "  return bfs_traversal"
      ]
    },
    {
      "cell_type": "code",
      "source": [
        "def main():\n",
        "  graph = {\n",
        "      'A' : ['B', 'C'],\n",
        "      'B' : ['A', 'D', 'E'],\n",
        "      'C' : ['A', 'F', 'G'],\n",
        "      'D' : ['B'],\n",
        "      'E' : ['B'],\n",
        "      'F' : ['C'],\n",
        "      'G' : ['C']\n",
        "  }\n",
        "  bfs_traversal = bfs(graph, 'A')\n",
        "  print(f\"BFS: {bfs_traversal}\")\n",
        "if __name__=='__main__':\n",
        "  main()"
      ],
      "metadata": {
        "colab": {
          "base_uri": "https://localhost:8080/"
        },
        "id": "SVKar9cTixD7",
        "outputId": "a6cd7439-da0a-4a7b-d4fd-846d4c8234ee"
      },
      "execution_count": 2,
      "outputs": [
        {
          "output_type": "stream",
          "name": "stdout",
          "text": [
            "BFS: ['A', 'B', 'C', 'D', 'E', 'F', 'G']\n"
          ]
        }
      ]
    },
    {
      "cell_type": "markdown",
      "source": [
        "Depth First Search (DFS)"
      ],
      "metadata": {
        "id": "mDGVaAyImSK3"
      }
    },
    {
      "cell_type": "code",
      "source": [
        "def dfs(graph, source, visited, dfs_traversal):\n",
        "  if source not in visited:\n",
        "    dfs_traversal.append(source)\n",
        "    visited.add(source)\n",
        "    for neighbour_node in graph[source]:\n",
        "      dfs(graph, neighbour_node, visited, dfs_traversal)\n",
        "  return dfs_traversal"
      ],
      "metadata": {
        "id": "hfWZTa6BlM9c"
      },
      "execution_count": 3,
      "outputs": []
    },
    {
      "cell_type": "code",
      "source": [
        "def main():\n",
        "  visited = set()\n",
        "  dfs_traversal = list()\n",
        "  graph = {\n",
        "      'A' : ['B', 'C'],\n",
        "      'B' : ['D', 'E'],\n",
        "      'C' : ['F', 'G'],\n",
        "      'D' : [],\n",
        "      'E' : [],\n",
        "      'F' : [],\n",
        "      'G' : []\n",
        "  }\n",
        "  print(f\"DFS: {dfs(graph, 'A', visited, dfs_traversal)}\")\n",
        "if __name__=='__main__':\n",
        "  main()"
      ],
      "metadata": {
        "colab": {
          "base_uri": "https://localhost:8080/"
        },
        "id": "vaBXM6tikI6Q",
        "outputId": "a2ab2604-1831-43b4-fe09-b23494c0bcb9"
      },
      "execution_count": 4,
      "outputs": [
        {
          "output_type": "stream",
          "name": "stdout",
          "text": [
            "DFS: ['A', 'B', 'D', 'E', 'C', 'F', 'G']\n"
          ]
        }
      ]
    },
    {
      "cell_type": "markdown",
      "source": [
        "Uniform Cost Search (UCS)"
      ],
      "metadata": {
        "id": "Jkl_IVOCmX4w"
      }
    },
    {
      "cell_type": "code",
      "source": [
        "def uniform_cost_search(goal, start):\n",
        "\tglobal graph,cost\n",
        "\tanswer = []\n",
        "\tqueue = []\n",
        "\tfor i in range(len(goal)):\n",
        "\t\tanswer.append(10**8)\n",
        "\tqueue.append([0, start])\n",
        "\tvisited = {}\n",
        "\tcount = 0\n",
        "\twhile (len(queue) > 0):\n",
        "\t\tqueue = sorted(queue)\n",
        "\t\tp = queue[-1]\n",
        "\t\tdel queue[-1]\n",
        "\t\tp[0] *= -1\n",
        "\t\tif (p[1] in goal):\n",
        "\t\t\tindex = goal.index(p[1])\n",
        "\t\t\tif (answer[index] == 10**8):\n",
        "\t\t\t\tcount += 1\n",
        "\t\t\tif (answer[index] > p[0]):\n",
        "\t\t\t\tanswer[index] = p[0]\n",
        "\t\t\tdel queue[-1]\n",
        "\t\t\tqueue = sorted(queue)\n",
        "\t\t\tif (count == len(goal)):\n",
        "\t\t\t\treturn answer\n",
        "\t\tif (p[1] not in visited):\n",
        "\t\t\tfor i in range(len(graph[p[1]])):\n",
        "\t\t\t\tqueue.append( [(p[0] + cost[(p[1], graph[p[1]][i])])* -1, graph[p[1]][i]])\n",
        "\t\tvisited[p[1]] = 1\n",
        "\treturn answer\n",
        "if __name__ == '__main__':\n",
        "\tgraph,cost = [[] for i in range(8)],{}\n",
        "\tgraph[0].append(1)\n",
        "\tgraph[0].append(3)\n",
        "\tgraph[3].append(1)\n",
        "\tgraph[3].append(6)\n",
        "\tgraph[3].append(4)\n",
        "\tgraph[1].append(6)\n",
        "\tgraph[4].append(2)\n",
        "\tgraph[4].append(5)\n",
        "\tgraph[2].append(1)\n",
        "\tgraph[5].append(2)\n",
        "\tgraph[5].append(6)\n",
        "\tgraph[6].append(4)\n",
        "\tcost[(0, 1)] = 2\n",
        "\tcost[(0, 3)] = 5\n",
        "\tcost[(1, 6)] = 1\n",
        "\tcost[(3, 1)] = 5\n",
        "\tcost[(3, 6)] = 6\n",
        "\tcost[(3, 4)] = 2\n",
        "\tcost[(2, 1)] = 4\n",
        "\tcost[(4, 2)] = 4\n",
        "\tcost[(4, 5)] = 3\n",
        "\tcost[(5, 2)] = 6\n",
        "\tcost[(5, 6)] = 3\n",
        "\tcost[(6, 4)] = 7\n",
        "\tgoal = []\n",
        "\tgoal.append(6)\n",
        "\tanswer = uniform_cost_search(goal, 0)\n",
        "\tprint(\"Minimum cost from 0 to 6 is = \",answer[0])"
      ],
      "metadata": {
        "colab": {
          "base_uri": "https://localhost:8080/"
        },
        "id": "JVpF5zc7mdee",
        "outputId": "9d727fd4-2f1c-4566-9d1f-13dedc3e7f4d"
      },
      "execution_count": 5,
      "outputs": [
        {
          "output_type": "stream",
          "name": "stdout",
          "text": [
            "Minimum cost from 0 to 6 is =  3\n"
          ]
        }
      ]
    },
    {
      "cell_type": "markdown",
      "source": [
        "Iterative Deepening Depth First Search"
      ],
      "metadata": {
        "id": "Ttsj-yGrV-As"
      }
    },
    {
      "cell_type": "code",
      "source": [
        "from collections import defaultdict\n",
        "class Graph :\n",
        "  def __init__(self,vertices):\n",
        "    self.V = vertices\n",
        "    self.graph = defaultdict(list)\n",
        "  def addEdge(self,u,v):\n",
        "    self.graph[u].append(v)\n",
        "  def DLS(self,src,target,maxDepth):\n",
        "    if src == target : return True\n",
        "    if maxDepth <= 0 : return False\n",
        "    for i in self.graph[src]:\n",
        "      if(self.DLS(i,target,maxDepth-1)):\n",
        "        return True\n",
        "    return False\n",
        "  def IDDFS(self,src, target, macDepth):\n",
        "    for i in range(maxDepth):\n",
        "      if (self.DLS(src,target,i)):\n",
        "        return True\n",
        "    return False\n",
        "g = Graph (7);\n",
        "g.addEdge(0, 1)\n",
        "g.addEdge(0, 2)\n",
        "g.addEdge(0, 4)\n",
        "g.addEdge(1, 3)\n",
        "g.addEdge(1, 5)\n",
        "g.addEdge(2, 6)\n",
        "target = 6; maxDepth = 3; src = 0\n",
        "if g.IDDFS(src, target, maxDepth) == True:\n",
        "  print (\"Target is reachable from source \" + \"within max depth\")\n",
        "else :\n",
        "  print(\"Target is NOT reachable from source \" + \"within max depth\")"
      ],
      "metadata": {
        "colab": {
          "base_uri": "https://localhost:8080/"
        },
        "id": "T8vhwEKgWQvH",
        "outputId": "b25f5fb8-ae1c-43b2-cb96-958aaadb22db"
      },
      "execution_count": 6,
      "outputs": [
        {
          "output_type": "stream",
          "name": "stdout",
          "text": [
            "Target is reachable from source within max depth\n"
          ]
        }
      ]
    },
    {
      "cell_type": "markdown",
      "source": [
        "Bidirectional Search"
      ],
      "metadata": {
        "id": "vQ73QPPxWZWZ"
      }
    },
    {
      "cell_type": "code",
      "source": [
        "class AdjacentNode:\n",
        "  def __init__(self,vertex):\n",
        "    self.vertex = vertex\n",
        "    self.next = None\n",
        "class BidirectionalSearch:\n",
        "  def __init__ (self, vertices):\n",
        "    self.vertices = vertices\n",
        "    self.graph = [None] * self.vertices\n",
        "    self.src_queue = list()\n",
        "    self.dest_queue = list()\n",
        "    self.src_visited = [False] * self.vertices\n",
        "    self.dest_visited = [False] * self.vertices\n",
        "    self.src_parent = [None] * self.vertices\n",
        "    self.dest_parent = [None] * self.vertices\n",
        "  def add_edge(self, src, dest):\n",
        "    node = AdjacentNode(dest)\n",
        "    node.next = self.graph[src]\n",
        "    self.graph[src] = node\n",
        "    node = AdjacentNode(src)\n",
        "    node.next = self.graph[dest]\n",
        "    self.graph[dest] = node\n",
        "  def bfs(self, direction = 'forward'):\n",
        "    if direction == 'forward':\n",
        "      current = self.src_queue.pop(0)\n",
        "      connected_node = self.graph[current]\n",
        "      while connected_node:\n",
        "        vertex = connected_node.vertex\n",
        "        if not self.src_visited[vertex]:\n",
        "          self.src_queue.append(vertex)\n",
        "          self.src_visited[vertex] = True\n",
        "          self.src_parent[vertex] = current\n",
        "        connected_node = connected_node.next\n",
        "    else :\n",
        "      current = self.dest_queue.pop(0)\n",
        "      connected_node = self.graph[current]\n",
        "      while connected_node:\n",
        "        vertex = connected_node.vertex\n",
        "        if not self.dest_visited[vertex]:\n",
        "          self.dest_queue.append(vertex)\n",
        "          self.dest_visited[vertex] = True\n",
        "          self.dest_parent[vertex] = current\n",
        "        connected_node = connected_node.next\n",
        "  def is_intersecting(self):\n",
        "    for i in range(self.vertices):\n",
        "      if (self.src_visited[i] and\n",
        "         self.dest_visited[i]):\n",
        "        return i\n",
        "    return -1\n",
        "  def print_path(self, intersecting_node, src, dest):\n",
        "    path = list()\n",
        "    path.append(intersecting_node)\n",
        "    i = intersecting_node\n",
        "    while i != src :\n",
        "      path.append(self.src_parent[i])\n",
        "      i = self.src_parent[i]\n",
        "    path = path[::-1]\n",
        "    i = intersecting_node\n",
        "    while i != dest:\n",
        "      path.append(self.dest_parent[i])\n",
        "      i = self.dest_parent[i]\n",
        "    print(\"*****Path*****\")\n",
        "    path = list(map(str, path))\n",
        "    print(' '.join(path))\n",
        "  def bidirectional_search(self, src, dest):\n",
        "    self.src_queue.append(src)\n",
        "    self.src_visited[src] = True\n",
        "    self.src_parent[src] = -1\n",
        "    self.dest_queue.append(dest)\n",
        "    self.dest_visited[dest] = True\n",
        "    self.dest_parent[dest] = -1\n",
        "    while self.src_queue and self.dest_queue:\n",
        "      self.bfs(direction = 'forward')\n",
        "      self.bfs(direction = 'backward')\n",
        "      intersecting_node = self.is_intersecting()\n",
        "      if intersecting_node != -1:\n",
        "        print(f\"Path exists between {src} and {dest}\")\n",
        "        print(f\"Intersection at : {intersecting_node}\")\n",
        "        self.print_path(intersecting_node, src, dest)\n",
        "        exit(0)\n",
        "    return -1\n",
        "if __name__ == '__main__':\n",
        "  n = 15\n",
        "  src = 0\n",
        "  dest = 6\n",
        "graph = BidirectionalSearch(n)\n",
        "graph.add_edge(0, 4)\n",
        "graph.add_edge(1, 4)\n",
        "graph.add_edge(2, 5)\n",
        "graph.add_edge(3, 5) \n",
        "graph.add_edge(4, 6)\n",
        "graph.add_edge(5, 6)\n",
        "graph.add_edge(6, 7)\n",
        "graph.add_edge(7, 8)\n",
        "graph.add_edge(8, 9)\n",
        "graph.add_edge(8, 10) \n",
        "graph.add_edge(9, 11)\n",
        "graph.add_edge(9, 12)\n",
        "graph.add_edge(10, 13)\n",
        "graph.add_edge(10, 14)\n",
        "out = graph.bidirectional_search(src, dest)\n",
        "if out == -1:\n",
        "  print(f\"Path does not exist between {src} and {dest}\")"
      ],
      "metadata": {
        "colab": {
          "base_uri": "https://localhost:8080/"
        },
        "id": "2l-tIGivWdi1",
        "outputId": "5a8c290c-cc24-4f53-f797-1c6dd43ecf19"
      },
      "execution_count": 7,
      "outputs": [
        {
          "output_type": "stream",
          "name": "stdout",
          "text": [
            "Path exists between 0 and 6\n",
            "Intersection at : 4\n",
            "*****Path*****\n",
            "0 4 6\n",
            "Path exists between 0 and 6\n",
            "Intersection at : 4\n",
            "*****Path*****\n",
            "0 4 6\n",
            "Path exists between 0 and 6\n",
            "Intersection at : 4\n",
            "*****Path*****\n",
            "0 4 6\n",
            "Path exists between 0 and 6\n",
            "Intersection at : 0\n",
            "*****Path*****\n",
            "0 4 6\n",
            "Path exists between 0 and 6\n",
            "Intersection at : 0\n",
            "*****Path*****\n",
            "0 4 6\n",
            "Path exists between 0 and 6\n",
            "Intersection at : 0\n",
            "*****Path*****\n",
            "0 4 6\n",
            "Path exists between 0 and 6\n",
            "Intersection at : 0\n",
            "*****Path*****\n",
            "0 4 6\n",
            "Path exists between 0 and 6\n",
            "Intersection at : 0\n",
            "*****Path*****\n",
            "0 4 6\n",
            "Path exists between 0 and 6\n",
            "Intersection at : 0\n",
            "*****Path*****\n",
            "0 4 6\n",
            "Path exists between 0 and 6\n",
            "Intersection at : 0\n",
            "*****Path*****\n",
            "0 4 6\n",
            "Path exists between 0 and 6\n",
            "Intersection at : 0\n",
            "*****Path*****\n",
            "0 4 6\n",
            "Path exists between 0 and 6\n",
            "Intersection at : 0\n",
            "*****Path*****\n",
            "0 4 6\n",
            "Path exists between 0 and 6\n",
            "Intersection at : 0\n",
            "*****Path*****\n",
            "0 4 6\n",
            "Path exists between 0 and 6\n",
            "Intersection at : 0\n",
            "*****Path*****\n",
            "0 4 6\n",
            "Path exists between 0 and 6\n",
            "Intersection at : 0\n",
            "*****Path*****\n",
            "0 4 6\n",
            "Path does not exist between 0 and 6\n"
          ]
        }
      ]
    }
  ]
}